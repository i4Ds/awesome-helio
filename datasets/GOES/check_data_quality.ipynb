{
 "cells": [
  {
   "cell_type": "code",
   "execution_count": null,
   "metadata": {
    "collapsed": true
   },
   "outputs": [],
   "source": [
    "from sunpy import timeseries as ts\n",
    "from sunpy.net import Fido\n",
    "from sunpy.net import attrs as a\n",
    "from netCDF4 import Dataset\n",
    "import datetime as dt\n",
    "import numpy as np"
   ]
  },
  {
   "cell_type": "code",
   "execution_count": null,
   "outputs": [],
   "source": [
    "def create_data(file_goes15, tstart, tend):\n",
    "    if len(file_goes15.data) <1:\n",
    "        print('no_data')\n",
    "        return -1\n",
    "    rootgrp = Dataset(file_goes15.data[0], 'r')\n",
    "    if len(file_goes15.data) > 1:\n",
    "        rootgrp = Dataset(file_goes15.data[1], 'r')\n",
    "        rootgrp1 = Dataset(file_goes15.data[0], 'r')\n",
    "        #check order\n",
    "        if rootgrp1.variables['time'][0] < rootgrp.variables['time'][0]:\n",
    "            rootgrp, rootgrp1 = rootgrp1, rootgrp\n",
    "        quality_b1 = rootgrp1.variables['b_flags'][:]\n",
    "        quality_a1 = rootgrp1.variables['a_flags'][:]\n",
    "    quality_b = rootgrp.variables['b_flags'][:]\n",
    "    quality_a = rootgrp.variables['a_flags'][:]\n",
    "\n",
    "    #upload whole file\n",
    "    times = []\n",
    "\n",
    "    goes_15 = ts.TimeSeries(file_goes15, concatenate=True)\n",
    "    goes_fl = goes_15.truncate(tstart, tend)\n",
    "    #k= goes_fl.data.flags\n",
    "    #print(k)\n",
    "    table = goes_fl.to_table()\n",
    "    #find the index of truncated data\n",
    "    if len(goes_fl.index) ==0:\n",
    "        print('error')\n",
    "        return -1\n",
    "    start_date = goes_fl.index[0]\n",
    "    end_date = goes_fl.index[-1]\n",
    "    data  = dt.datetime(start_date.year, start_date.month, start_date.day, start_date.hour, start_date.minute, start_date.second, microsecond = start_date.microsecond, tzinfo=dt.timezone.utc)\n",
    "    data_end = dt.datetime(end_date.year, end_date.month, end_date.day, end_date.hour, end_date.minute, end_date.second, microsecond= end_date.microsecond, tzinfo=dt.timezone.utc)\n",
    "\n",
    "    dt_start = (data - dt.datetime(1970, 1, 1, tzinfo=dt.timezone.utc)).total_seconds()\n",
    "    dt_end= (data_end - dt.datetime(1970, 1, 1, tzinfo = dt.timezone.utc)).total_seconds()\n",
    "\n",
    "    times_index = np.where(rootgrp.variables['time'][:].data==dt_start)\n",
    "    if len(times_index[0])==0:\n",
    "\n",
    "        print('error')\n",
    "        return -1\n",
    "    if len(file_goes15.data) == 1:\n",
    "        times_index_end = np.where(rootgrp.variables['time'][:].data == dt_end)\n",
    "    else:\n",
    "        times_index_end = np.where(rootgrp1.variables['time'][:].data == dt_end)\n",
    "\n",
    "    s = times_index_end[0]\n",
    "    k= len(s)\n",
    "\n",
    "    if len(times_index_end[0])==0:\n",
    "        print('error')\n",
    "        return -1\n",
    "\n",
    "    if len(file_goes15.data) ==1:\n",
    "        table['b_flags'] = quality_b[int(times_index[0]):int(times_index_end[0])+1]\n",
    "        table['a_flags'] = quality_a[int(times_index[0]):int(times_index_end[0])+1]\n",
    "    else:\n",
    "        ind0 = int(times_index[0])\n",
    "        ind1 =int(times_index_end[0])+1\n",
    "        arr1 = quality_b[ind0:]\n",
    "        arr2 = quality_b1[:ind1]\n",
    "        arr = np.concatenate((arr1, arr2))\n",
    "        table['b_flags'] = arr\n",
    "        table['a_flags'] = np.concatenate((quality_a[int(times_index[0]):] , quality_a1[:int(times_index_end[0]) + 1]))\n",
    "\n",
    "    return table\n",
    "\n"
   ],
   "metadata": {
    "collapsed": false,
    "pycharm": {
     "name": "#%%\n"
    }
   }
  },
  {
   "cell_type": "code",
   "execution_count": null,
   "outputs": [],
   "source": [
    "#start and end dates\n",
    "tstart = \"2012-05-04 00:00\"\n",
    "tend = \"2012-05-04 12:00\"\n",
    "\n",
    "#make a request\n",
    "result = Fido.search(a.Time(tstart, tend), a.Instrument(\"XRS\"))\n",
    "result_goes15 = Fido.search(a.Time(tstart, tend), a.Instrument(\"XRS\"), a.goes.SatelliteNumber(15))\n",
    "file_goes15 = Fido.fetch(result_goes15)\n",
    "\n",
    "# create astropy table with data\n",
    "table = create_data(file_goes15, tstart, tend)\n",
    "\n"
   ],
   "metadata": {
    "collapsed": false,
    "pycharm": {
     "name": "#%%\n"
    }
   }
  },
  {
   "cell_type": "code",
   "execution_count": null,
   "outputs": [],
   "source": [
    "# chose indexes with good quality data\n",
    "\n",
    "indx_good = [ind for ind, value in enumerate ( table[\"b_flags\"]) if value  == 0]"
   ],
   "metadata": {
    "collapsed": false,
    "pycharm": {
     "name": "#%%\n"
    }
   }
  }
 ],
 "metadata": {
  "kernelspec": {
   "name": "python3",
   "language": "python",
   "display_name": "Python 3 (ipykernel)"
  },
  "language_info": {
   "codemirror_mode": {
    "name": "ipython",
    "version": 2
   },
   "file_extension": ".py",
   "mimetype": "text/x-python",
   "name": "python",
   "nbconvert_exporter": "python",
   "pygments_lexer": "ipython2",
   "version": "2.7.6"
  }
 },
 "nbformat": 4,
 "nbformat_minor": 0
}